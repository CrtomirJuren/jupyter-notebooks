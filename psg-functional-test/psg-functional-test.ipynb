{
 "cells": [
  {
   "cell_type": "markdown",
   "metadata": {},
   "source": [
    "# GP Functional test\n",
    "\n",
    "- INPUT accepts gp functional data\n",
    "- OUTPUT requested functional values\n",
    "\n",
    "## Functional values\n",
    "\n",
    "[comment]: ![requirements.jpg](attachment:functional-limit-values.jpg)\n",
    "\n",
    "<div>\n",
    "<img src=\"attachment:functional-limit-values.jpg\" width=\"400\"/>\n",
    "</div>\n",
    "\n",
    "t_1000°C[s]\n",
    "T_60s[°C]\n",
    "I_100ms[A]\n",
    "I_60s[A] Status\n",
    "\n",
    "## Voltage Profile\n",
    "\n",
    "| t[s]  | U[V] |\n",
    "| ----- | ---- |\n",
    "| 1,9   | 11 V |\n",
    "| 58,1  | 4,4  |\n",
    "\n",
    "## File Input Structure\n",
    "\n",
    "| t[s]  | U[V]   | I[A]  | Piro[°C] |\n",
    "| ----- | ------ | ----- | -------- |\n",
    "| 0,000 | -0,084 | 0,146 | 897,951  |\n",
    "| 0,010 | -0,084 | 0,148 | 897,943  |\n",
    "| 0,020 | -0,075 | 0,150 | 897,928  |\n",
    "\n",
    "## File Output Structure\n",
    "\n",
    "| DUT        | t_1000°C[s]  | T_60s[°C] | I_100ms[A] | I_60s[A] |\n",
    "| ---------- | ------------ | --------- | ---------- |--------- |\n",
    "| gp-data-1  |     6.98     |  1027.22  |    23.04   |   6.70   |\n",
    "| gp-data-2  |     6.60     |  1025.10  |    21.00   |   6.60   |\n",
    "\n",
    "\n"
   ]
  },
  {
   "cell_type": "markdown",
   "metadata": {},
   "source": [
    "## Imports"
   ]
  },
  {
   "cell_type": "code",
   "execution_count": 9,
   "metadata": {},
   "outputs": [],
   "source": [
    "# Imports\n",
    "import os\n",
    "import csv\n",
    "import numpy as np\n",
    "\n",
    "import matplotlib\n",
    "import matplotlib.pyplot as plt"
   ]
  },
  {
   "cell_type": "markdown",
   "metadata": {},
   "source": [
    "## Defines"
   ]
  },
  {
   "cell_type": "code",
   "execution_count": 10,
   "metadata": {},
   "outputs": [],
   "source": [
    "DEBUG = True\n",
    "#DEBUG = False\n",
    "\n",
    "# set path of this file\n",
    "NOTEBOOK = os.path.abspath(\"GlowPlug-Graph.ipynb\")\n",
    "\n",
    "INPUT_FILEPATH = os.path.join(os.path.dirname(NOTEBOOK), \"gp-data-1.txt\")\n",
    "\n",
    "#INPUT_FILENAME = \"1.txt\"\n",
    "#INPUT_DIRECTORY = \"E:\\GP-functional-python\\data\"\n",
    "#INPUT_FILEPATH = os.path.join(INPUT_DIRECTORY, INPUT_FILENAME)\n",
    "\n",
    "SAMPLE_FREQ = 100 # 100 hz timestamp data\n",
    "\n",
    "results = []"
   ]
  },
  {
   "cell_type": "markdown",
   "metadata": {},
   "source": [
    "## import_data()"
   ]
  },
  {
   "cell_type": "code",
   "execution_count": 11,
   "metadata": {},
   "outputs": [],
   "source": [
    "def import_data():\n",
    "    \"\"\"Read txt file\"\"\"\n",
    "    global column_t\n",
    "    global column_U\n",
    "    global column_I\n",
    "    global column_T\n",
    "    \n",
    "    with open(INPUT_FILEPATH) as f:\n",
    "        gp_reader = csv.reader(f, delimiter='\\t')\n",
    "        data = list(gp_reader)\n",
    "        header = data[0]\n",
    "\n",
    "        for i,rows in enumerate(data[1:]):\n",
    "            for j,parsed_item in enumerate(rows):\n",
    "                parsed_item = parsed_item.replace(',', '.') # Change rows to parsed_item\n",
    "                data[i+1][j] = parsed_item\n",
    "\n",
    "    #data[1:]\n",
    "    data = np.array(data[1:], dtype=np.float)\n",
    "\n",
    "    # izbira stolpca [vse vrstice= ,: 0 = prvi stolpec]\n",
    "    column_t = data[:,0]\n",
    "    column_U = data[:,1]\n",
    "    column_I = data[:,2]\n",
    "    column_T = data[:,3]"
   ]
  },
  {
   "cell_type": "markdown",
   "metadata": {},
   "source": [
    "## analyse_data()"
   ]
  },
  {
   "cell_type": "code",
   "execution_count": 12,
   "metadata": {},
   "outputs": [],
   "source": [
    "def analyse_data():\n",
    "    \"\"\"check all important parameters\"\"\"    \n",
    "    global column_t\n",
    "    global column_U\n",
    "    global column_I\n",
    "    global column_T\n",
    "    \n",
    "    global results\n",
    "    results.clear()\n",
    "    #-------------------------\n",
    "    # GET DUT name - filename\n",
    "    results.append(INPUT_FILEPATH)\n",
    "\n",
    "    if(DEBUG):\n",
    "        print(\"Filename:\", INPUT_FILEPATH,\"\\n\")\n",
    "        #print(\"\\n\")\n",
    "\n",
    "    #1. get index of voltage trigger. trigger when above 5V volts\n",
    "    U_start_index = np.where(column_U >= 5)[0][0]\n",
    "    index = U_start_index\n",
    "\n",
    "    if(DEBUG):\n",
    "        print(\"U_start_index:\", index)\n",
    "        print(column_t[index],\"[s]\" ,column_U[index],\"[V]\",column_I[index],\"[A]\",column_T[index],\"[°C]\")\n",
    "        print(\"\\n\")\n",
    "        #print(\"\\n\")\n",
    "\n",
    "    #-------------------------\n",
    "    # Calculate t_1000°C[s]\n",
    "    # get first index of temperature above or equal to 1000C\n",
    "    index = np.where(column_T >= 1000)[0][0]\n",
    "    parameter = column_t[index]\n",
    "    temperature = column_T[index]\n",
    "    parameter = \"{0:.2f}\".format(parameter)\n",
    "    results.append(parameter)\n",
    "\n",
    "    if(DEBUG):\n",
    "        print(\"t_1000°C:\",  parameter,\"[s]\" ,\"index:\", index)\n",
    "        print(column_t[index],\"[s]\" ,column_U[index],\"[V]\",column_I[index],\"[A]\",column_T[index],\"[°C]\")\n",
    "        print(\"\\n\")\n",
    "    #-------------------------\n",
    "    # T_60s[°C]\n",
    "    index = 60*SAMPLE_FREQ + U_start_index\n",
    "    index = int(index)\n",
    "    parameter = column_T[index]\n",
    "    parameter = \"{0:.2f}\".format(parameter)\n",
    "    results.append(str(parameter))\n",
    "\n",
    "    if(DEBUG):\n",
    "        print(\"T_60s:\",  parameter,\"[°C]\" ,\"index:\", index)\n",
    "        print(column_t[index],\"[s]\" ,column_U[index],\"[V]\",column_I[index],\"[A]\",column_T[index],\"[°C]\")\n",
    "        print(\"\\n\")\n",
    "\n",
    "    #-------------------------\n",
    "    # I_100ms[A]\n",
    "    index = 0.1*SAMPLE_FREQ + U_start_index\n",
    "    index = int(index)\n",
    "    parameter = column_I[index]\n",
    "    parameter = \"{0:.2f}\".format(parameter)\n",
    "    results.append(str(parameter))\n",
    "\n",
    "    if(DEBUG):\n",
    "        print(\"I_100ms:\",  parameter,\"[A]\" ,\"index:\", index)\n",
    "        print(column_t[index],\"[s]\" ,column_U[index],\"[V]\",column_I[index],\"[A]\",column_T[index],\"[°C]\")\n",
    "        print(\"\\n\")\n",
    "\n",
    "    #-------------------------\n",
    "    # I_60s[A]\n",
    "    index = 60*SAMPLE_FREQ + U_start_index-5\n",
    "    parameter = column_I[index]\n",
    "    #print(parameter)\n",
    "    parameter = \"{0:.2f}\".format(parameter)\n",
    "    results.append(str(parameter))\n",
    "\n",
    "    if(DEBUG):\n",
    "        print(\"I_60s:\",  parameter,\"[A]\" ,\"index:\", index)\n",
    "        print(column_t[index],\"[s]\" ,column_U[index],\"[V]\",column_I[index],\"[A]\",column_T[index],\"[°C]\")\n",
    "        print(\"\\n\")"
   ]
  },
  {
   "cell_type": "markdown",
   "metadata": {},
   "source": [
    "## graph_data()"
   ]
  },
  {
   "cell_type": "code",
   "execution_count": 13,
   "metadata": {},
   "outputs": [],
   "source": [
    "def graph_data():\n",
    "    %matplotlib inline\n",
    "\n",
    "    fig, ax1 = plt.subplots()\n",
    "\n",
    "    # create second axis\n",
    "    ax2 = ax1.twinx()\n",
    "\n",
    "    # write data to plot\n",
    "    ax1.plot(column_t, column_U, label=\"U[V]\",color='black')\n",
    "    ax1.plot(column_t, column_I, label=\"I[A]\",color='blue')\n",
    "    ax2.plot(column_t, column_T, label=\"T[C]\",color='red')\n",
    "\n",
    "    # set labels\n",
    "    ax1.set_xlabel('Time[s]')\n",
    "    ax1.set_ylabel('Voltage, Current    [U,I]', color='blue')\n",
    "    ax2.set_ylabel('Temp    [T]', color='red')\n",
    "\n",
    "    # set plot linmits\n",
    "    plt.xlim(0, np.size(column_t)/SAMPLE_FREQ)\n",
    "    #plt.ylim(0, 5)\n",
    "\n",
    "    # show everything\n",
    "    plt.show()"
   ]
  },
  {
   "cell_type": "markdown",
   "metadata": {},
   "source": [
    "## export_data()"
   ]
  },
  {
   "cell_type": "code",
   "execution_count": 14,
   "metadata": {},
   "outputs": [],
   "source": [
    "def export_data():\n",
    "    global results\n",
    "    \n",
    "    with open(\"functional_glowing_stat.txt\",\"a+\") as f:\n",
    "        result_str =  str(results).strip('[]')\n",
    "        f.write(result_str + '\\n')\n",
    "        #f.write(\"\\n\")\n",
    "\n",
    "    if(DEBUG):\n",
    "        print(result_str)"
   ]
  },
  {
   "cell_type": "markdown",
   "metadata": {},
   "source": [
    "## main()"
   ]
  },
  {
   "cell_type": "code",
   "execution_count": 15,
   "metadata": {},
   "outputs": [],
   "source": [
    "def main():\n",
    "\n",
    "    import_data()\n",
    "    analyse_data()\n",
    "    graph_data()\n",
    "    export_data()"
   ]
  },
  {
   "cell_type": "markdown",
   "metadata": {},
   "source": [
    "## Run Application"
   ]
  },
  {
   "cell_type": "code",
   "execution_count": 16,
   "metadata": {},
   "outputs": [
    {
     "name": "stdout",
     "output_type": "stream",
     "text": [
      "Filename: C:\\Users\\crtjur\\Desktop\\jupyter-notebooks.git\\psg-functional-test\\gp-data-1.txt \n",
      "\n",
      "U_start_index: 502\n",
      "5.02 [s] 9.956 [V] 4.135 [A] 700.056 [°C]\n",
      "\n",
      "\n",
      "t_1000°C: 6.98 [s] index: 698\n",
      "6.98 [s] 4.305 [V] 8.199 [A] 1003.066 [°C]\n",
      "\n",
      "\n",
      "T_60s: 1027.22 [°C] index: 6502\n",
      "65.02 [s] 1.774 [V] 4.596 [A] 1027.223 [°C]\n",
      "\n",
      "\n",
      "I_100ms: 23.04 [A] index: 512\n",
      "5.12 [s] 11.03 [V] 23.041 [A] 700.125 [°C]\n",
      "\n",
      "\n",
      "I_60s: 6.70 [A] index: 6497\n",
      "64.97 [s] 4.321 [V] 6.698 [A] 1027.243 [°C]\n",
      "\n",
      "\n"
     ]
    },
    {
     "data": {
      "image/png": "[encoded data removed]",
      "text/plain": [
       "<Figure size 432x288 with 2 Axes>"
      ]
     },
     "metadata": {},
     "output_type": "display_data"
    },
    {
     "name": "stdout",
     "output_type": "stream",
     "text": [
      "'C:\\\\Users\\\\crtjur\\\\Desktop\\\\jupyter-notebooks.git\\\\psg-functional-test\\\\gp-data-1.txt', '6.98', '1027.22', '23.04', '6.70'\n"
     ]
    }
   ],
   "source": [
    "if __name__ == \"__main__\":\n",
    "    main()"
   ]
  },
  {
   "cell_type": "code",
   "execution_count": null,
   "metadata": {},
   "outputs": [],
   "source": []
  }
 ],
 "metadata": {
  "kernelspec": {
   "display_name": "Python 3",
   "language": "python",
   "name": "python3"
  },
  "language_info": {
   "codemirror_mode": {
    "name": "ipython",
    "version": 3
   },
   "file_extension": ".py",
   "mimetype": "text/x-python",
   "name": "python",
   "nbconvert_exporter": "python",
   "pygments_lexer": "ipython3",
   "version": "3.6.5"
  }
 },
 "nbformat": 4,
 "nbformat_minor": 2
}
